{
 "cells": [
  {
   "cell_type": "code",
   "execution_count": 1,
   "id": "feb2b1e1-64c8-4e12-8387-f1c45156cf0e",
   "metadata": {},
   "outputs": [],
   "source": [
    "import calendar"
   ]
  },
  {
   "cell_type": "code",
   "execution_count": 6,
   "id": "70136669-9f5c-42e5-a757-b4b8dd4c93eb",
   "metadata": {},
   "outputs": [
    {
     "name": "stdout",
     "output_type": "stream",
     "text": [
      "<calendar.Calendar object at 0x7f7801145040>\n"
     ]
    },
    {
     "data": {
      "text/plain": [
       "14"
      ]
     },
     "execution_count": 6,
     "metadata": {},
     "output_type": "execute_result"
    }
   ],
   "source": [
    "def ada(year):\n",
    "    month = 10\n",
    "    n_thurs = 0\n",
    "    for day in range(1, 31):\n",
    "        date = datetime.datetime(2021,10, day)\n",
    "        if date.strftime('%A') == 'Thursday':\n",
    "            n_thurs += 1\n",
    "            if n_thurs == 2:\n",
    "                return day\n",
    "ada(2021)"
   ]
  },
  {
   "cell_type": "code",
   "execution_count": 3,
   "id": "f870fbcb-6ed7-4823-b804-df3317823654",
   "metadata": {},
   "outputs": [
    {
     "data": {
      "text/plain": [
       "datetime.datetime(2021, 10, 1, 0, 0)"
      ]
     },
     "execution_count": 3,
     "metadata": {},
     "output_type": "execute_result"
    }
   ],
   "source": [
    "import datetime"
   ]
  },
  {
   "cell_type": "code",
   "execution_count": null,
   "id": "9e94e843-b634-435b-bb95-6bfd21af1f45",
   "metadata": {},
   "outputs": [],
   "source": []
  }
 ],
 "metadata": {
  "kernelspec": {
   "display_name": "Python 3 (ipykernel)",
   "language": "python",
   "name": "python3"
  },
  "language_info": {
   "codemirror_mode": {
    "name": "ipython",
    "version": 3
   },
   "file_extension": ".py",
   "mimetype": "text/x-python",
   "name": "python",
   "nbconvert_exporter": "python",
   "pygments_lexer": "ipython3",
   "version": "3.9.7"
  }
 },
 "nbformat": 4,
 "nbformat_minor": 5
}
